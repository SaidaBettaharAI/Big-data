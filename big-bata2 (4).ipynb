{
 "cells": [
  {
   "cell_type": "code",
   "execution_count": 1,
   "id": "44b3a162",
   "metadata": {
    "_cell_guid": "b1076dfc-b9ad-4769-8c92-a6c4dae69d19",
    "_uuid": "8f2839f25d086af736a60e9eeb907d3b93b6e0e5",
    "execution": {
     "iopub.execute_input": "2025-10-24T20:00:52.247729Z",
     "iopub.status.busy": "2025-10-24T20:00:52.246842Z",
     "iopub.status.idle": "2025-10-24T20:00:53.883336Z",
     "shell.execute_reply": "2025-10-24T20:00:53.882326Z"
    },
    "papermill": {
     "duration": 1.642006,
     "end_time": "2025-10-24T20:00:53.884938",
     "exception": false,
     "start_time": "2025-10-24T20:00:52.242932",
     "status": "completed"
    },
    "tags": []
   },
   "outputs": [
    {
     "name": "stdout",
     "output_type": "stream",
     "text": [
      "/kaggle/input/telecom/data2.csv\n",
      "/kaggle/input/telecom/data1.csv\n"
     ]
    }
   ],
   "source": [
    "# This Python 3 environment comes with many helpful analytics libraries installed\n",
    "# It is defined by the kaggle/python Docker image: https://github.com/kaggle/docker-python\n",
    "# For example, here's several helpful packages to load\n",
    "\n",
    "import numpy as np # linear algebra\n",
    "import pandas as pd # data processing, CSV file I/O (e.g. pd.read_csv)\n",
    "\n",
    "# Input data files are available in the read-only \"../input/\" directory\n",
    "# For example, running this (by clicking run or pressing Shift+Enter) will list all files under the input directory\n",
    "\n",
    "import os\n",
    "for dirname, _, filenames in os.walk('/kaggle/input'):\n",
    "    for filename in filenames:\n",
    "        print(os.path.join(dirname, filename))\n",
    "\n",
    "# You can write up to 20GB to the current directory (/kaggle/working/) that gets preserved as output when you create a version using \"Save & Run All\" \n",
    "# You can also write temporary files to /kaggle/temp/, but they won't be saved outside of the current session"
   ]
  },
  {
   "cell_type": "code",
   "execution_count": 2,
   "id": "b311ced4",
   "metadata": {
    "execution": {
     "iopub.execute_input": "2025-10-24T20:00:53.890377Z",
     "iopub.status.busy": "2025-10-24T20:00:53.890000Z",
     "iopub.status.idle": "2025-10-24T20:04:52.788385Z",
     "shell.execute_reply": "2025-10-24T20:04:52.787279Z"
    },
    "papermill": {
     "duration": 238.908652,
     "end_time": "2025-10-24T20:04:52.795978",
     "exception": false,
     "start_time": "2025-10-24T20:00:53.887326",
     "status": "completed"
    },
    "tags": []
   },
   "outputs": [
    {
     "name": "stdout",
     "output_type": "stream",
     "text": [
      "File size on disk: 9.61 GB\n",
      "\n",
      "Pandas + chunksize completed successfully\n",
      "Total rows read: 160,108,003\n",
      "Time taken: 238.89 seconds\n",
      "Peak memory used: 216.14 MB\n",
      "File size on disk: 9.61 GB\n"
     ]
    }
   ],
   "source": [
    "import pandas as pd\n",
    "import time\n",
    "import os\n",
    "import psutil\n",
    "\n",
    "file_path = \"/kaggle/input/telecom/data1.csv\"\n",
    "\n",
    "# حجم الملف\n",
    "file_size_bytes = os.path.getsize(file_path)\n",
    "file_size_gb = file_size_bytes / (1024 ** 3)\n",
    "print(f\"File size on disk: {file_size_gb:.2f} GB\\n\")\n",
    "\n",
    "process = psutil.Process(os.getpid())\n",
    "start_time = time.time()\n",
    "max_memory = 0\n",
    "\n",
    "chunksize = 100000\n",
    "total_rows = 0\n",
    "\n",
    "for chunk in pd.read_csv(file_path, chunksize=chunksize):\n",
    "    total_rows += len(chunk)\n",
    "    current = process.memory_info().rss / (1024 * 1024)  # MB\n",
    "    if current > max_memory:\n",
    "        max_memory = current\n",
    "\n",
    "elapsed = time.time() - start_time\n",
    "\n",
    "print(\"Pandas + chunksize completed successfully\")\n",
    "print(f\"Total rows read: {total_rows:,}\")\n",
    "print(f\"Time taken: {elapsed:.2f} seconds\")\n",
    "print(f\"Peak memory used: {max_memory:.2f} MB\")\n",
    "print(f\"File size on disk: {file_size_gb:.2f} GB\")"
   ]
  },
  {
   "cell_type": "code",
   "execution_count": 3,
   "id": "0b4e5732",
   "metadata": {
    "execution": {
     "iopub.execute_input": "2025-10-24T20:04:52.802395Z",
     "iopub.status.busy": "2025-10-24T20:04:52.802050Z",
     "iopub.status.idle": "2025-10-24T20:04:57.735107Z",
     "shell.execute_reply": "2025-10-24T20:04:57.733882Z"
    },
    "papermill": {
     "duration": 4.93846,
     "end_time": "2025-10-24T20:04:57.737043",
     "exception": false,
     "start_time": "2025-10-24T20:04:52.798583",
     "status": "completed"
    },
    "tags": []
   },
   "outputs": [
    {
     "name": "stdout",
     "output_type": "stream",
     "text": [
      "Requirement already satisfied: dask in /usr/local/lib/python3.11/dist-packages (2024.12.1)\r\n",
      "Requirement already satisfied: click>=8.1 in /usr/local/lib/python3.11/dist-packages (from dask) (8.3.0)\r\n",
      "Requirement already satisfied: cloudpickle>=3.0.0 in /usr/local/lib/python3.11/dist-packages (from dask) (3.1.1)\r\n",
      "Requirement already satisfied: fsspec>=2021.09.0 in /usr/local/lib/python3.11/dist-packages (from dask) (2025.9.0)\r\n",
      "Requirement already satisfied: packaging>=20.0 in /usr/local/lib/python3.11/dist-packages (from dask) (25.0)\r\n",
      "Requirement already satisfied: partd>=1.4.0 in /usr/local/lib/python3.11/dist-packages (from dask) (1.4.2)\r\n",
      "Requirement already satisfied: pyyaml>=5.3.1 in /usr/local/lib/python3.11/dist-packages (from dask) (6.0.3)\r\n",
      "Requirement already satisfied: toolz>=0.10.0 in /usr/local/lib/python3.11/dist-packages (from dask) (1.0.0)\r\n",
      "Requirement already satisfied: importlib_metadata>=4.13.0 in /usr/local/lib/python3.11/dist-packages (from dask) (8.7.0)\r\n",
      "Requirement already satisfied: zipp>=3.20 in /usr/local/lib/python3.11/dist-packages (from importlib_metadata>=4.13.0->dask) (3.23.0)\r\n",
      "Requirement already satisfied: locket in /usr/local/lib/python3.11/dist-packages (from partd>=1.4.0->dask) (1.0.0)\r\n"
     ]
    }
   ],
   "source": [
    "!pip install dask"
   ]
  },
  {
   "cell_type": "code",
   "execution_count": 4,
   "id": "2e4fbf85",
   "metadata": {
    "execution": {
     "iopub.execute_input": "2025-10-24T20:04:57.743360Z",
     "iopub.status.busy": "2025-10-24T20:04:57.743050Z",
     "iopub.status.idle": "2025-10-24T20:07:23.871849Z",
     "shell.execute_reply": "2025-10-24T20:07:23.870864Z"
    },
    "papermill": {
     "duration": 146.136826,
     "end_time": "2025-10-24T20:07:23.876336",
     "exception": false,
     "start_time": "2025-10-24T20:04:57.739510",
     "status": "completed"
    },
    "tags": []
   },
   "outputs": [
    {
     "name": "stdout",
     "output_type": "stream",
     "text": [
      "File size on disk: 9.61 GB\n",
      "\n",
      "Dask completed successfully\n",
      "Total rows read: 160,108,003\n",
      "Time taken: 142.17 seconds\n",
      "Peak memory used: 943.70 MB\n",
      "File size on disk: 9.61 GB\n"
     ]
    }
   ],
   "source": [
    "import dask.dataframe as dd\n",
    "import time\n",
    "import psutil\n",
    "import os\n",
    "\n",
    "file_path = \"/kaggle/input/telecom/data1.csv\"\n",
    "\n",
    "\n",
    "file_size_bytes = os.path.getsize(file_path)\n",
    "file_size_gb = file_size_bytes / (1024 ** 3)\n",
    "print(f\"File size on disk: {file_size_gb:.2f} GB\\n\")\n",
    "\n",
    "process = psutil.Process(os.getpid())\n",
    "start_time = time.time()\n",
    "max_memory = 0\n",
    "\n",
    "\n",
    "df = dd.read_csv(file_path)\n",
    "\n",
    "\n",
    "total_rows = len(df) \n",
    "total_rows = df.shape[0].compute()  \n",
    "\n",
    "\n",
    "current_memory = process.memory_info().rss / (1024 * 1024)\n",
    "if current_memory > max_memory:\n",
    "    max_memory = current_memory\n",
    "\n",
    "elapsed = time.time() - start_time\n",
    "\n",
    "print(\"Dask completed successfully\")\n",
    "print(f\"Total rows read: {total_rows:,}\")\n",
    "print(f\"Time taken: {elapsed:.2f} seconds\")\n",
    "print(f\"Peak memory used: {max_memory:.2f} MB\")\n",
    "print(f\"File size on disk: {file_size_gb:.2f} GB\")"
   ]
  },
  {
   "cell_type": "code",
   "execution_count": 5,
   "id": "2f61d901",
   "metadata": {
    "execution": {
     "iopub.execute_input": "2025-10-24T20:07:23.882670Z",
     "iopub.status.busy": "2025-10-24T20:07:23.882322Z",
     "iopub.status.idle": "2025-10-24T20:53:28.196861Z",
     "shell.execute_reply": "2025-10-24T20:53:28.191625Z"
    },
    "papermill": {
     "duration": 2764.35011,
     "end_time": "2025-10-24T20:53:28.228942",
     "exception": false,
     "start_time": "2025-10-24T20:07:23.878832",
     "status": "completed"
    },
    "tags": []
   },
   "outputs": [
    {
     "name": "stdout",
     "output_type": "stream",
     "text": [
      "Compression (gzip) completed successfully\n",
      "Total rows read: 160108003\n",
      "Time taken (read + compress): 2764.17 seconds\n",
      "Peak memory used: 9701.80 MB\n",
      "Compressed file size: 2.41 GB\n"
     ]
    }
   ],
   "source": [
    "import pandas as pd\n",
    "import psutil\n",
    "import time\n",
    "import os\n",
    "import gc\n",
    "\n",
    "file_path = \"/kaggle/input/telecom/data1.csv\"\n",
    "\n",
    "compressed_path = \"/kaggle/working/data1_compressed.csv.gz\"\n",
    "\n",
    "gc.collect()\n",
    "start_time = time.time()\n",
    "process = psutil.Process(os.getpid())\n",
    "mem_before = process.memory_info().rss / (1024 ** 2)\n",
    "\n",
    "\n",
    "df = pd.read_csv(file_path)\n",
    "df.to_csv(compressed_path, index=False, compression='gzip')\n",
    "\n",
    "mem_after = process.memory_info().rss / (1024 ** 2)\n",
    "peak_memory = mem_after - mem_before\n",
    "time_taken = time.time() - start_time\n",
    "\n",
    "file_size_gb = os.path.getsize(compressed_path) / (1024 ** 3)\n",
    "\n",
    "print(\"Compression (gzip) completed successfully\")\n",
    "print(f\"Total rows read: {len(df)}\")\n",
    "print(f\"Time taken (read + compress): {time_taken:.2f} seconds\")\n",
    "print(f\"Peak memory used: {peak_memory:.2f} MB\")\n",
    "print(f\"Compressed file size: {file_size_gb:.2f} GB\")"
   ]
  },
  {
   "cell_type": "code",
   "execution_count": 6,
   "id": "307102bd",
   "metadata": {
    "execution": {
     "iopub.execute_input": "2025-10-24T20:53:28.245686Z",
     "iopub.status.busy": "2025-10-24T20:53:28.244686Z",
     "iopub.status.idle": "2025-10-24T20:53:28.320805Z",
     "shell.execute_reply": "2025-10-24T20:53:28.319821Z"
    },
    "papermill": {
     "duration": 0.086696,
     "end_time": "2025-10-24T20:53:28.322153",
     "exception": false,
     "start_time": "2025-10-24T20:53:28.235457",
     "status": "completed"
    },
    "tags": []
   },
   "outputs": [
    {
     "name": "stdout",
     "output_type": "stream",
     "text": [
      "Comparison of Large CSV Handling Methods\n",
      "\n"
     ]
    },
    {
     "data": {
      "text/html": [
       "<div>\n",
       "<style scoped>\n",
       "    .dataframe tbody tr th:only-of-type {\n",
       "        vertical-align: middle;\n",
       "    }\n",
       "\n",
       "    .dataframe tbody tr th {\n",
       "        vertical-align: top;\n",
       "    }\n",
       "\n",
       "    .dataframe thead th {\n",
       "        text-align: right;\n",
       "    }\n",
       "</style>\n",
       "<table border=\"1\" class=\"dataframe\">\n",
       "  <thead>\n",
       "    <tr style=\"text-align: right;\">\n",
       "      <th></th>\n",
       "      <th>Method</th>\n",
       "      <th>Total Rows</th>\n",
       "      <th>Time (s)</th>\n",
       "      <th>Peak Memory (MB)</th>\n",
       "      <th>File Size (GB)</th>\n",
       "    </tr>\n",
       "  </thead>\n",
       "  <tbody>\n",
       "    <tr>\n",
       "      <th>0</th>\n",
       "      <td>Pandas + chunksize</td>\n",
       "      <td>160108003</td>\n",
       "      <td>163.53</td>\n",
       "      <td>287.64</td>\n",
       "      <td>9.61</td>\n",
       "    </tr>\n",
       "    <tr>\n",
       "      <th>1</th>\n",
       "      <td>Dask</td>\n",
       "      <td>160108003</td>\n",
       "      <td>171.49</td>\n",
       "      <td>963.24</td>\n",
       "      <td>9.61</td>\n",
       "    </tr>\n",
       "    <tr>\n",
       "      <th>2</th>\n",
       "      <td>Compression (gzip)</td>\n",
       "      <td>160108003</td>\n",
       "      <td>2975.66</td>\n",
       "      <td>9770.67</td>\n",
       "      <td>2.41</td>\n",
       "    </tr>\n",
       "  </tbody>\n",
       "</table>\n",
       "</div>"
      ],
      "text/plain": [
       "               Method  Total Rows  Time (s)  Peak Memory (MB)  File Size (GB)\n",
       "0  Pandas + chunksize   160108003    163.53            287.64            9.61\n",
       "1                Dask   160108003    171.49            963.24            9.61\n",
       "2  Compression (gzip)   160108003   2975.66           9770.67            2.41"
      ]
     },
     "metadata": {},
     "output_type": "display_data"
    }
   ],
   "source": [
    "import pandas as pd\n",
    "\n",
    "results = {\n",
    "    \"Method\": [\"Pandas + chunksize\", \"Dask\", \"Compression (gzip)\"],\n",
    "    \"Total Rows\": [160108003, 160108003, 160108003],\n",
    "    \"Time (s)\": [163.53, 171.49, 2975.66],\n",
    "    \"Peak Memory (MB)\": [287.64, 963.24, 9770.67],\n",
    "    \"File Size (GB)\": [9.61, 9.61, 2.41]\n",
    "}\n",
    "\n",
    "df_results = pd.DataFrame(results)\n",
    "\n",
    "print(\"Comparison of Large CSV Handling Methods\\n\")\n",
    "display(df_results)"
   ]
  }
 ],
 "metadata": {
  "kaggle": {
   "accelerator": "none",
   "dataSources": [
    {
     "datasetId": 4248317,
     "sourceId": 7367614,
     "sourceType": "datasetVersion"
    }
   ],
   "dockerImageVersionId": 31153,
   "isGpuEnabled": false,
   "isInternetEnabled": false,
   "language": "python",
   "sourceType": "notebook"
  },
  "kernelspec": {
   "display_name": "Python 3",
   "language": "python",
   "name": "python3"
  },
  "language_info": {
   "codemirror_mode": {
    "name": "ipython",
    "version": 3
   },
   "file_extension": ".py",
   "mimetype": "text/x-python",
   "name": "python",
   "nbconvert_exporter": "python",
   "pygments_lexer": "ipython3",
   "version": "3.11.13"
  },
  "papermill": {
   "default_parameters": {},
   "duration": 3161.981534,
   "end_time": "2025-10-24T20:53:30.169946",
   "environment_variables": {},
   "exception": null,
   "input_path": "__notebook__.ipynb",
   "output_path": "__notebook__.ipynb",
   "parameters": {},
   "start_time": "2025-10-24T20:00:48.188412",
   "version": "2.6.0"
  }
 },
 "nbformat": 4,
 "nbformat_minor": 5
}
