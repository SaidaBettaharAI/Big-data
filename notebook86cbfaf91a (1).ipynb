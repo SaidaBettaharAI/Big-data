{
 "cells": [
  {
   "cell_type": "code",
   "execution_count": 1,
   "id": "fbc88781",
   "metadata": {
    "_cell_guid": "b1076dfc-b9ad-4769-8c92-a6c4dae69d19",
    "_uuid": "8f2839f25d086af736a60e9eeb907d3b93b6e0e5",
    "execution": {
     "iopub.execute_input": "2025-10-20T22:16:54.308787Z",
     "iopub.status.busy": "2025-10-20T22:16:54.308462Z",
     "iopub.status.idle": "2025-10-20T22:16:56.434867Z",
     "shell.execute_reply": "2025-10-20T22:16:56.433481Z"
    },
    "papermill": {
     "duration": 2.132613,
     "end_time": "2025-10-20T22:16:56.436726",
     "exception": false,
     "start_time": "2025-10-20T22:16:54.304113",
     "status": "completed"
    },
    "tags": []
   },
   "outputs": [
    {
     "name": "stdout",
     "output_type": "stream",
     "text": [
      "/kaggle/input/telecom/data2.csv\n",
      "/kaggle/input/telecom/data1.csv\n"
     ]
    }
   ],
   "source": [
    "# This Python 3 environment comes with many helpful analytics libraries installed\n",
    "# It is defined by the kaggle/python Docker image: https://github.com/kaggle/docker-python\n",
    "# For example, here's several helpful packages to load\n",
    "\n",
    "import numpy as np # linear algebra\n",
    "import pandas as pd # data processing, CSV file I/O (e.g. pd.read_csv)\n",
    "\n",
    "# Input data files are available in the read-only \"../input/\" directory\n",
    "# For example, running this (by clicking run or pressing Shift+Enter) will list all files under the input directory\n",
    "\n",
    "import os\n",
    "for dirname, _, filenames in os.walk('/kaggle/input'):\n",
    "    for filename in filenames:\n",
    "        print(os.path.join(dirname, filename))\n",
    "\n",
    "# You can write up to 20GB to the current directory (/kaggle/working/) that gets preserved as output when you create a version using \"Save & Run All\" \n",
    "# You can also write temporary files to /kaggle/temp/, but they won't be saved outside of the current session"
   ]
  },
  {
   "cell_type": "code",
   "execution_count": 2,
   "id": "cd1b8c20",
   "metadata": {
    "execution": {
     "iopub.execute_input": "2025-10-20T22:16:56.444666Z",
     "iopub.status.busy": "2025-10-20T22:16:56.443610Z",
     "iopub.status.idle": "2025-10-20T22:17:06.255933Z",
     "shell.execute_reply": "2025-10-20T22:17:06.254656Z"
    },
    "papermill": {
     "duration": 9.818564,
     "end_time": "2025-10-20T22:17:06.258417",
     "exception": false,
     "start_time": "2025-10-20T22:16:56.439853",
     "status": "completed"
    },
    "tags": []
   },
   "outputs": [
    {
     "name": "stdout",
     "output_type": "stream",
     "text": [
      "Requirement already satisfied: dask in /usr/local/lib/python3.11/dist-packages (2024.12.1)\r\n",
      "Requirement already satisfied: click>=8.1 in /usr/local/lib/python3.11/dist-packages (from dask) (8.3.0)\r\n",
      "Requirement already satisfied: cloudpickle>=3.0.0 in /usr/local/lib/python3.11/dist-packages (from dask) (3.1.1)\r\n",
      "Requirement already satisfied: fsspec>=2021.09.0 in /usr/local/lib/python3.11/dist-packages (from dask) (2025.9.0)\r\n",
      "Requirement already satisfied: packaging>=20.0 in /usr/local/lib/python3.11/dist-packages (from dask) (25.0)\r\n",
      "Requirement already satisfied: partd>=1.4.0 in /usr/local/lib/python3.11/dist-packages (from dask) (1.4.2)\r\n",
      "Requirement already satisfied: pyyaml>=5.3.1 in /usr/local/lib/python3.11/dist-packages (from dask) (6.0.3)\r\n",
      "Requirement already satisfied: toolz>=0.10.0 in /usr/local/lib/python3.11/dist-packages (from dask) (1.0.0)\r\n",
      "Requirement already satisfied: importlib_metadata>=4.13.0 in /usr/local/lib/python3.11/dist-packages (from dask) (8.7.0)\r\n",
      "Requirement already satisfied: zipp>=3.20 in /usr/local/lib/python3.11/dist-packages (from importlib_metadata>=4.13.0->dask) (3.23.0)\r\n",
      "Requirement already satisfied: locket in /usr/local/lib/python3.11/dist-packages (from partd>=1.4.0->dask) (1.0.0)\r\n",
      "Requirement already satisfied: psutil in /usr/local/lib/python3.11/dist-packages (7.1.0)\r\n"
     ]
    }
   ],
   "source": [
    "!pip install dask\n",
    "!pip install psutil"
   ]
  },
  {
   "cell_type": "code",
   "execution_count": 3,
   "id": "767a3cb2",
   "metadata": {
    "execution": {
     "iopub.execute_input": "2025-10-20T22:17:06.266611Z",
     "iopub.status.busy": "2025-10-20T22:17:06.265574Z",
     "iopub.status.idle": "2025-10-20T22:17:10.761250Z",
     "shell.execute_reply": "2025-10-20T22:17:10.760019Z"
    },
    "papermill": {
     "duration": 4.501504,
     "end_time": "2025-10-20T22:17:10.762964",
     "exception": false,
     "start_time": "2025-10-20T22:17:06.261460",
     "status": "completed"
    },
    "tags": []
   },
   "outputs": [],
   "source": [
    "import pandas as pd\n",
    "import dask.dataframe as dd\n",
    "import psutil\n",
    "import time\n",
    "import os"
   ]
  },
  {
   "cell_type": "code",
   "execution_count": 4,
   "id": "bdbbd854",
   "metadata": {
    "execution": {
     "iopub.execute_input": "2025-10-20T22:17:10.770326Z",
     "iopub.status.busy": "2025-10-20T22:17:10.769736Z",
     "iopub.status.idle": "2025-10-20T22:17:10.774722Z",
     "shell.execute_reply": "2025-10-20T22:17:10.773713Z"
    },
    "papermill": {
     "duration": 0.010613,
     "end_time": "2025-10-20T22:17:10.776554",
     "exception": false,
     "start_time": "2025-10-20T22:17:10.765941",
     "status": "completed"
    },
    "tags": []
   },
   "outputs": [],
   "source": [
    "file_path = \"/kaggle/input/telecom/data1.csv\""
   ]
  },
  {
   "cell_type": "code",
   "execution_count": 5,
   "id": "4006ec22",
   "metadata": {
    "execution": {
     "iopub.execute_input": "2025-10-20T22:17:10.783575Z",
     "iopub.status.busy": "2025-10-20T22:17:10.783222Z",
     "iopub.status.idle": "2025-10-20T22:17:10.788143Z",
     "shell.execute_reply": "2025-10-20T22:17:10.787173Z"
    },
    "papermill": {
     "duration": 0.010538,
     "end_time": "2025-10-20T22:17:10.789966",
     "exception": false,
     "start_time": "2025-10-20T22:17:10.779428",
     "status": "completed"
    },
    "tags": []
   },
   "outputs": [],
   "source": [
    "def memory_usage():\n",
    "    process = psutil.Process(os.getpid())\n",
    "    return round(process.memory_info().rss / (1024 * 1024), 2)  # بالميغا بايت"
   ]
  },
  {
   "cell_type": "code",
   "execution_count": 6,
   "id": "fa6cae46",
   "metadata": {
    "execution": {
     "iopub.execute_input": "2025-10-20T22:17:10.797489Z",
     "iopub.status.busy": "2025-10-20T22:17:10.796425Z",
     "iopub.status.idle": "2025-10-20T22:21:13.350709Z",
     "shell.execute_reply": "2025-10-20T22:21:13.349160Z"
    },
    "papermill": {
     "duration": 242.568463,
     "end_time": "2025-10-20T22:21:13.361289",
     "exception": false,
     "start_time": "2025-10-20T22:17:10.792826",
     "status": "completed"
    },
    "tags": []
   },
   "outputs": [
    {
     "name": "stdout",
     "output_type": "stream",
     "text": [
      "pandas + chunksize\n",
      "الوقت المستغرق: 242.54 ثانية\n",
      "الذاكرة المستخدمة: 9781.83 MB\n",
      "عدد الصفوف المقروءة: 161\n"
     ]
    }
   ],
   "source": [
    "start_time = time.time()\n",
    "mem_before = memory_usage()\n",
    "\n",
    "chunksize = 1000000  # مليون صف في كل مرة\n",
    "chunks = []\n",
    "for chunk in pd.read_csv(file_path, chunksize=chunksize):\n",
    "    chunks.append(chunk.head(1))  # نقرأ صف واحد من كل chunk للتجريب\n",
    "df_pandas = pd.concat(chunks)\n",
    "\n",
    "mem_after = memory_usage()\n",
    "time_pandas = time.time() - start_time\n",
    "\n",
    "print(f\"pandas + chunksize\")\n",
    "print(f\"الوقت المستغرق: {time_pandas:.2f} ثانية\")\n",
    "print(f\"الذاكرة المستخدمة: {mem_after - mem_before:.2f} MB\")\n",
    "print(f\"عدد الصفوف المقروءة: {len(df_pandas)}\")"
   ]
  },
  {
   "cell_type": "code",
   "execution_count": 7,
   "id": "c7862e89",
   "metadata": {
    "execution": {
     "iopub.execute_input": "2025-10-20T22:21:13.370476Z",
     "iopub.status.busy": "2025-10-20T22:21:13.370002Z",
     "iopub.status.idle": "2025-10-20T22:21:16.487596Z",
     "shell.execute_reply": "2025-10-20T22:21:16.486443Z"
    },
    "papermill": {
     "duration": 3.124415,
     "end_time": "2025-10-20T22:21:16.489253",
     "exception": false,
     "start_time": "2025-10-20T22:21:13.364838",
     "status": "completed"
    },
    "tags": []
   },
   "outputs": [
    {
     "name": "stdout",
     "output_type": "stream",
     "text": [
      "Dask\n",
      "الوقت المستغرق: 3.10 ثانية\n",
      "الذاكرة المستخدمة: 108.23 MB\n",
      "   GridID   TimeInterval  countrycode     smsin    smsout    callin   callout  \\\n",
      "0       1  1383260400000            0  0.081363       NaN       NaN       NaN   \n",
      "1       1  1383260400000           39  0.141864  0.156787  0.160938  0.052275   \n",
      "2       1  1383261000000            0  0.136588       NaN       NaN  0.027300   \n",
      "3       1  1383261000000           33       NaN       NaN       NaN       NaN   \n",
      "4       1  1383261000000           39  0.278452  0.119926  0.188777  0.133637   \n",
      "\n",
      "    internet  \n",
      "0        NaN  \n",
      "1  11.028366  \n",
      "2        NaN  \n",
      "3   0.026137  \n",
      "4  11.100963  \n"
     ]
    },
    {
     "name": "stderr",
     "output_type": "stream",
     "text": [
      "/usr/local/lib/python3.11/dist-packages/pandas/io/formats/format.py:1458: RuntimeWarning: invalid value encountered in greater\n",
      "  has_large_values = (abs_vals > 1e6).any()\n",
      "/usr/local/lib/python3.11/dist-packages/pandas/io/formats/format.py:1459: RuntimeWarning: invalid value encountered in less\n",
      "  has_small_values = ((abs_vals < 10 ** (-self.digits)) & (abs_vals > 0)).any()\n",
      "/usr/local/lib/python3.11/dist-packages/pandas/io/formats/format.py:1459: RuntimeWarning: invalid value encountered in greater\n",
      "  has_small_values = ((abs_vals < 10 ** (-self.digits)) & (abs_vals > 0)).any()\n"
     ]
    }
   ],
   "source": [
    "start_time = time.time()\n",
    "mem_before = memory_usage()\n",
    "\n",
    "df_dask = dd.read_csv(file_path)\n",
    "df_dask_head = df_dask.head(5)  # نقرأ فقط 5 أسطر\n",
    "\n",
    "mem_after = memory_usage()\n",
    "time_dask = time.time() - start_time\n",
    "\n",
    "print(f\"Dask\")\n",
    "print(f\"الوقت المستغرق: {time_dask:.2f} ثانية\")\n",
    "print(f\"الذاكرة المستخدمة: {mem_after - mem_before:.2f} MB\")\n",
    "print(df_dask_head.head())"
   ]
  },
  {
   "cell_type": "code",
   "execution_count": 8,
   "id": "82ce04f4",
   "metadata": {
    "execution": {
     "iopub.execute_input": "2025-10-20T22:21:16.497304Z",
     "iopub.status.busy": "2025-10-20T22:21:16.496475Z",
     "iopub.status.idle": "2025-10-20T22:57:26.169586Z",
     "shell.execute_reply": "2025-10-20T22:57:26.165981Z"
    },
    "papermill": {
     "duration": 2169.697063,
     "end_time": "2025-10-20T22:57:26.189534",
     "exception": false,
     "start_time": "2025-10-20T22:21:16.492471",
     "status": "completed"
    },
    "tags": []
   },
   "outputs": [
    {
     "name": "stdout",
     "output_type": "stream",
     "text": [
      "⏳ تم ضغط الملف بنجاح في 2169.65 ثانية.\n",
      "📦 حجم الملف بعد الضغط: 2477.13 MB\n"
     ]
    }
   ],
   "source": [
    "import gzip\n",
    "import shutil\n",
    "import time\n",
    "\n",
    "# 🔹 المسار الأصلي للملف\n",
    "file_path = \"/kaggle/input/telecom/data1.csv\"\n",
    "\n",
    "# 🔹 مسار الملف المضغوط\n",
    "compressed_file = \"/kaggle/working/data1.csv.gz\"\n",
    "\n",
    "# ✅ 1. ضغط الملف (مرة واحدة فقط)\n",
    "start_compress = time.time()\n",
    "with open(file_path, 'rb') as f_in:\n",
    "    with gzip.open(compressed_file, 'wb') as f_out:\n",
    "        shutil.copyfileobj(f_in, f_out)\n",
    "end_compress = time.time()\n",
    "\n",
    "print(f\"⏳ تم ضغط الملف بنجاح في {(end_compress - start_compress):.2f} ثانية.\")\n",
    "print(f\"📦 حجم الملف بعد الضغط: {os.path.getsize(compressed_file) / (1024*1024):.2f} MB\")"
   ]
  }
 ],
 "metadata": {
  "kaggle": {
   "accelerator": "none",
   "dataSources": [
    {
     "datasetId": 4248317,
     "sourceId": 7367614,
     "sourceType": "datasetVersion"
    }
   ],
   "dockerImageVersionId": 31153,
   "isGpuEnabled": false,
   "isInternetEnabled": false,
   "language": "python",
   "sourceType": "notebook"
  },
  "kernelspec": {
   "display_name": "Python 3",
   "language": "python",
   "name": "python3"
  },
  "language_info": {
   "codemirror_mode": {
    "name": "ipython",
    "version": 3
   },
   "file_extension": ".py",
   "mimetype": "text/x-python",
   "name": "python",
   "nbconvert_exporter": "python",
   "pygments_lexer": "ipython3",
   "version": "3.11.13"
  },
  "papermill": {
   "default_parameters": {},
   "duration": 2438.673198,
   "end_time": "2025-10-20T22:57:27.733854",
   "environment_variables": {},
   "exception": null,
   "input_path": "__notebook__.ipynb",
   "output_path": "__notebook__.ipynb",
   "parameters": {},
   "start_time": "2025-10-20T22:16:49.060656",
   "version": "2.6.0"
  }
 },
 "nbformat": 4,
 "nbformat_minor": 5
}
